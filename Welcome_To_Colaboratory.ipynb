{
  "cells": [
    {
      "cell_type": "markdown",
      "metadata": {
        "id": "view-in-github",
        "colab_type": "text"
      },
      "source": [
        "<a href=\"https://colab.research.google.com/github/NijatLmmdv/8-Queens-Problem-OR-/blob/main/Welcome_To_Colaboratory.ipynb\" target=\"_parent\"><img src=\"https://colab.research.google.com/assets/colab-badge.svg\" alt=\"Open In Colab\"/></a>"
      ]
    },
    {
      "cell_type": "code",
      "source": [
        "import numpy as np\n",
        "import matplotlib.pyplot as plt"
      ],
      "metadata": {
        "id": "Vb9YYmQD6bqq"
      },
      "execution_count": 9,
      "outputs": []
    },
    {
      "cell_type": "code",
      "source": [
        "# Limits\n",
        "a = 0 # lower\n",
        "b = np.pi # upper\n",
        "# Number of iterations (for 10K ≈ 2 sec, for 100K it takes 10*10 more time ≈ 3 minutes on my PC)\n",
        "N = 10_000\n",
        "# var to store the results\n",
        "areas =[]"
      ],
      "metadata": {
        "id": "1RlLdE5P6btl"
      },
      "execution_count": 10,
      "outputs": []
    },
    {
      "cell_type": "code",
      "source": [
        "# This one is slighlty faster and recalls the LateX formula above; it takes about 2 seconds for 10_000\n",
        "for _ in range(N): \n",
        "    # Apply the approximation formula\n",
        "    answer = (b-a)/N * np.sin(np.random.uniform(a,b,N)).sum()\n",
        "    areas.append(answer)"
      ],
      "metadata": {
        "id": "d6ByWT386bwM"
      },
      "execution_count": 11,
      "outputs": []
    },
    {
      "cell_type": "code",
      "source": [
        "fig, ax = plt.subplots(figsize=(10,8))\n",
        "\n",
        "mu = np.array(areas).mean()\n",
        "sigma = np.array(areas).std()\n",
        "textstr = '\\n'.join((\n",
        "    f'$\\mu=${mu:.2f}',\n",
        "    f'$\\sigma=${sigma:.2f}' ))\n",
        "\n",
        "ax.hist(areas, bins=31, ec='b')\n",
        "# these are matplotlib.patch.Patch properties\n",
        "props = dict(boxstyle='round', facecolor='blue', alpha=0.1)\n",
        "\n",
        "# place a text box in upper left in axes coords\n",
        "ax.text(0.05, 0.95, textstr, transform=ax.transAxes, fontsize=14,\n",
        "        verticalalignment='top', bbox=props)\n",
        "plt.title(\"Distribution of calculated areas\")\n",
        "plt.xlabel(\"Areas\")\n",
        "\n",
        "plt.show()"
      ],
      "metadata": {
        "id": "pJv-h5xp6by5",
        "outputId": "aac4208f-95a4-4480-e7fc-a265002ed1c8",
        "colab": {
          "base_uri": "https://localhost:8080/",
          "height": 513
        }
      },
      "execution_count": 12,
      "outputs": [
        {
          "output_type": "display_data",
          "data": {
            "image/png": "[encoded data removed]",
            "text/plain": [
              "<Figure size 720x576 with 1 Axes>"
            ]
          },
          "metadata": {
            "needs_background": "light"
          }
        }
      ]
    },
    {
      "cell_type": "code",
      "source": [
        ""
      ],
      "metadata": {
        "id": "K3F5cq7y6b1g"
      },
      "execution_count": null,
      "outputs": []
    },
    {
      "cell_type": "code",
      "source": [
        ""
      ],
      "metadata": {
        "id": "rUMfDBUX6b4O"
      },
      "execution_count": null,
      "outputs": []
    },
    {
      "cell_type": "code",
      "source": [
        ""
      ],
      "metadata": {
        "id": "83avf0di6b60"
      },
      "execution_count": null,
      "outputs": []
    }
  ],
  "metadata": {
    "colab": {
      "collapsed_sections": [],
      "name": "Welcome To Colaboratory",
      "toc_visible": true,
      "provenance": [],
      "include_colab_link": true
    },
    "kernelspec": {
      "display_name": "Python 3",
      "name": "python3"
    }
  },
  "nbformat": 4,
  "nbformat_minor": 0
}