{
  "cells": [
    {
      "cell_type": "markdown",
      "metadata": {
        "id": "view-in-github",
        "colab_type": "text"
      },
      "source": [
        "<a href=\"https://colab.research.google.com/github/NijatLmmdv/8-Queens-Problem-OR-/blob/main/Welcome_To_Colaboratory.ipynb\" target=\"_parent\"><img src=\"https://colab.research.google.com/assets/colab-badge.svg\" alt=\"Open In Colab\"/></a>"
      ]
    },
    {
      "cell_type": "code",
      "source": [
        "#import main library\n",
        "import numpy as np"
      ],
      "metadata": {
        "id": "jdarklww7ttW"
      },
      "execution_count": 5,
      "outputs": []
    },
    {
      "cell_type": "code",
      "source": [
        "#give numbers to meals\n",
        "state = {\n",
        "    0 : \"Burger\",\n",
        "    1 : \"Pizza\",\n",
        "    2 : \"Hotdog\"\n",
        "}\n",
        "state"
      ],
      "metadata": {
        "id": "4ZDMMpVe7twg",
        "outputId": "e72d55a9-48f9-46c5-d62e-ed0a1f190115",
        "colab": {
          "base_uri": "https://localhost:8080/"
        }
      },
      "execution_count": 6,
      "outputs": [
        {
          "output_type": "execute_result",
          "data": {
            "text/plain": [
              "{0: 'Burger', 1: 'Pizza', 2: 'Hotdog'}"
            ]
          },
          "metadata": {},
          "execution_count": 6
        }
      ]
    },
    {
      "cell_type": "code",
      "source": [
        "#make array \n",
        "A = np.array([[0.2,0.6,0.2],\n",
        "              [0.3,0.0,0.7],\n",
        "              [0.5,0.0,0.5]\n",
        "              ])\n",
        "A"
      ],
      "metadata": {
        "id": "HenCwFU_7tyy",
        "outputId": "ab26c6d1-46ed-45d0-b6e5-be0c82fff360",
        "colab": {
          "base_uri": "https://localhost:8080/"
        }
      },
      "execution_count": 7,
      "outputs": [
        {
          "output_type": "execute_result",
          "data": {
            "text/plain": [
              "array([[0.2, 0.6, 0.2],\n",
              "       [0.3, 0. , 0.7],\n",
              "       [0.5, 0. , 0.5]])"
            ]
          },
          "metadata": {},
          "execution_count": 7
        }
      ]
    },
    {
      "cell_type": "code",
      "source": [
        "#random walk on markov chain\n",
        "n = 15 #number of steps\n",
        "start_state = 0 #which state begin\n",
        "print(state[start_state], \" \",end=\"\") #print name of state\n",
        "prev_state = start_state \n",
        "\n",
        "while n-1:\n",
        "    curr_state = np.random.choice([0, 1, 2],p=A[prev_state])\n",
        "    print(state[curr_state], \" \",end=\"\")\n",
        "    prev_state = curr_state\n",
        "    n-=1\n",
        "#print(\"stop\")\n"
      ],
      "metadata": {
        "id": "zDDo4FYd7t4l",
        "outputId": "d61243fe-b760-4d14-af11-5703e3669cda",
        "colab": {
          "base_uri": "https://localhost:8080/"
        }
      },
      "execution_count": 25,
      "outputs": [
        {
          "output_type": "stream",
          "name": "stdout",
          "text": [
            "Burger  Pizza  Hotdog  Hotdog  Hotdog  Hotdog  Burger  Hotdog  Hotdog  Hotdog  Hotdog  Hotdog  Burger  Pizza  Hotdog  "
          ]
        }
      ]
    },
    {
      "cell_type": "code",
      "source": [
        "steps = 10**6\n",
        "start_state = 0\n",
        "pi = np.array([0,0,0])\n",
        "pi[start_state] = 1\n",
        "prev_state = start_state\n",
        "\n",
        "\n",
        "i=0\n",
        "while i<steps:\n",
        "  curr_state = np.random.choice([0,1,2],p=A[prev_state])\n",
        "  pi[curr_state]+=1\n",
        "  prev_state = curr_state\n",
        "  i +=1\n",
        "\n",
        "print(\"π =\",pi/steps)"
      ],
      "metadata": {
        "id": "96f_IQzO7t7i",
        "outputId": "b5a58b5d-272b-47cf-9d66-92a6a7c417dc",
        "colab": {
          "base_uri": "https://localhost:8080/"
        }
      },
      "execution_count": 26,
      "outputs": [
        {
          "output_type": "stream",
          "name": "stdout",
          "text": [
            "π = [0.35211  0.211003 0.436888]\n"
          ]
        }
      ]
    },
    {
      "cell_type": "code",
      "source": [
        "steps = 10**3\n",
        "A_n = A\n",
        "\n",
        "i=0\n",
        "while i<steps:\n",
        "    A_n =  np.matmul(A_n, A)\n",
        "    i+=1\n",
        "\n",
        "print(\"A^n = \\n\", A_n, \"\\n\")\n",
        "print(\"π = \", A_n[0])"
      ],
      "metadata": {
        "id": "2ytkr7TE7t-I",
        "outputId": "9959cfec-54e1-4388-9a11-c447f7c216cf",
        "colab": {
          "base_uri": "https://localhost:8080/"
        }
      },
      "execution_count": 27,
      "outputs": [
        {
          "output_type": "stream",
          "name": "stdout",
          "text": [
            "A^n = \n",
            " [[0.35211268 0.21126761 0.43661972]\n",
            " [0.35211268 0.21126761 0.43661972]\n",
            " [0.35211268 0.21126761 0.43661972]] \n",
            "\n",
            "π =  [0.35211268 0.21126761 0.43661972]\n"
          ]
        }
      ]
    },
    {
      "cell_type": "code",
      "source": [
        "import scipy.linalg\n",
        "values, left = scipy.linalg.eig(A, right = False, left = True)\n",
        "\n",
        "print(\"left eigen vectors = \\n\", left, \"\\n\")\n",
        "print(\"eigen values = \\n\", values)"
      ],
      "metadata": {
        "id": "W7Be_4FKBJpf",
        "outputId": "4f810963-b3ad-4189-b64d-fd323b9c10b0",
        "colab": {
          "base_uri": "https://localhost:8080/"
        }
      },
      "execution_count": 28,
      "outputs": [
        {
          "output_type": "stream",
          "name": "stdout",
          "text": [
            "left eigen vectors = \n",
            " [[-0.58746336+0.j          0.16984156+0.35355339j  0.16984156-0.35355339j]\n",
            " [-0.35247801+0.j         -0.67936622+0.j         -0.67936622-0.j        ]\n",
            " [-0.72845456+0.j          0.50952467-0.35355339j  0.50952467+0.35355339j]] \n",
            "\n",
            "eigen values = \n",
            " [ 1.  +0.j        -0.15+0.3122499j -0.15-0.3122499j]\n"
          ]
        }
      ]
    },
    {
      "cell_type": "code",
      "source": [
        "pi = left[:,0]\n",
        "pi_normalized = [(x/np.sum(pi)).real for x in pi]\n",
        "pi_normalized\n"
      ],
      "metadata": {
        "id": "wU_tyrGTBLMN",
        "outputId": "9926bca2-4afd-4034-c715-c0b44ce59a6f",
        "colab": {
          "base_uri": "https://localhost:8080/"
        }
      },
      "execution_count": 29,
      "outputs": [
        {
          "output_type": "execute_result",
          "data": {
            "text/plain": [
              "[0.3521126760563379, 0.21126760563380304, 0.4366197183098591]"
            ]
          },
          "metadata": {},
          "execution_count": 29
        }
      ]
    },
    {
      "cell_type": "code",
      "source": [
        "def find_prob(seq, A, pi):\n",
        "    start_state = seq[0]\n",
        "    prob = pi[start_state]\n",
        "    prev_state, curr_state = start_state, start_state\n",
        "    for i in range(1, len(seq)):\n",
        "        curr_state = seq[i]\n",
        "        prob *= A[prev_state][curr_state]\n",
        "        prev_state = curr_state\n",
        "    return prob\n",
        "\n",
        "print(find_prob([1, 2, 2, 0], A, pi_normalized))"
      ],
      "metadata": {
        "id": "di6iBlKBBQ-A",
        "outputId": "61d95779-252c-46d8-b987-44e3099d0020",
        "colab": {
          "base_uri": "https://localhost:8080/"
        }
      },
      "execution_count": 30,
      "outputs": [
        {
          "output_type": "stream",
          "name": "stdout",
          "text": [
            "0.03697183098591553\n"
          ]
        }
      ]
    }
  ],
  "metadata": {
    "colab": {
      "collapsed_sections": [],
      "name": "Welcome To Colaboratory",
      "toc_visible": true,
      "provenance": [],
      "include_colab_link": true
    },
    "kernelspec": {
      "display_name": "Python 3",
      "name": "python3"
    }
  },
  "nbformat": 4,
  "nbformat_minor": 0
}